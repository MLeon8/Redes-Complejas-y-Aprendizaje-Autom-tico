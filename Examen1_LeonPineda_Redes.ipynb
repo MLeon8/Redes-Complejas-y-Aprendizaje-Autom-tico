{
  "cells": [
    {
      "cell_type": "code",
      "execution_count": 1,
      "metadata": {
        "colab": {
          "base_uri": "https://localhost:8080/"
        },
        "id": "rJ_QLKx0b-i8",
        "outputId": "7392d688-cc7a-4c03-9add-93e2e79ee5e8"
      },
      "outputs": [
        {
          "output_type": "stream",
          "name": "stdout",
          "text": [
            "Looking in indexes: https://pypi.org/simple, https://us-python.pkg.dev/colab-wheels/public/simple/\n",
            "Requirement already satisfied: networkx in /usr/local/lib/python3.7/dist-packages (2.6.3)\n"
          ]
        }
      ],
      "source": [
        "pip install networkx"
      ]
    },
    {
      "cell_type": "code",
      "execution_count": 2,
      "metadata": {
        "colab": {
          "base_uri": "https://localhost:8080/"
        },
        "id": "aUVNHbT9ipjN",
        "outputId": "3fc48de4-5f58-4711-e627-5c567b7fcbfd"
      },
      "outputs": [
        {
          "output_type": "stream",
          "name": "stdout",
          "text": [
            "Looking in indexes: https://pypi.org/simple, https://us-python.pkg.dev/colab-wheels/public/simple/\n",
            "Requirement already satisfied: matplotlib in /usr/local/lib/python3.7/dist-packages (3.2.2)\n",
            "Requirement already satisfied: numpy>=1.11 in /usr/local/lib/python3.7/dist-packages (from matplotlib) (1.21.6)\n",
            "Requirement already satisfied: cycler>=0.10 in /usr/local/lib/python3.7/dist-packages (from matplotlib) (0.11.0)\n",
            "Requirement already satisfied: python-dateutil>=2.1 in /usr/local/lib/python3.7/dist-packages (from matplotlib) (2.8.2)\n",
            "Requirement already satisfied: kiwisolver>=1.0.1 in /usr/local/lib/python3.7/dist-packages (from matplotlib) (1.4.3)\n",
            "Requirement already satisfied: pyparsing!=2.0.4,!=2.1.2,!=2.1.6,>=2.0.1 in /usr/local/lib/python3.7/dist-packages (from matplotlib) (3.0.9)\n",
            "Requirement already satisfied: typing-extensions in /usr/local/lib/python3.7/dist-packages (from kiwisolver>=1.0.1->matplotlib) (4.1.1)\n",
            "Requirement already satisfied: six>=1.5 in /usr/local/lib/python3.7/dist-packages (from python-dateutil>=2.1->matplotlib) (1.15.0)\n"
          ]
        }
      ],
      "source": [
        "pip install matplotlib"
      ]
    },
    {
      "cell_type": "code",
      "execution_count": 3,
      "metadata": {
        "id": "tuecBhx8jRtm"
      },
      "outputs": [],
      "source": [
        "import networkx as nx\n",
        "\n",
        "import numpy as np\n",
        "import matplotlib.pyplot as plt\n",
        "import pandas as pd\n",
        "\n",
        "from scipy import *\n",
        "\n",
        "import math as math\n",
        "import seaborn as sns\n",
        "\n",
        "# %matplotlib inline\n",
        "\n",
        "from ipywidgets import *\n",
        "\n",
        "anch = 20\n",
        "alt = anch/float(1.6180334)\n",
        "\n",
        " \n",
        "\n"
      ]
    },
    {
      "cell_type": "code",
      "execution_count": null,
      "metadata": {
        "id": "_9YMnY_f61lT"
      },
      "outputs": [],
      "source": [
        "nx.barabasi_albert_graph\n",
        "\n",
        "RCB = nx.barabasi_albert_graph(22000,10)\n",
        "\n",
        "\n",
        "fig, ax = plt.subplots(figsize=(anch, alt))\n",
        "\n",
        "nx.draw_spring(RCB) #Solo nodos\n",
        "#nx.draw_networkx(RCB) #Si se quiere saber el número del nodo\n",
        "\n",
        "#nx.draw_kamada_kawai(RCB)  #Kamada Kawai (es mas lento)"
      ]
    },
    {
      "cell_type": "code",
      "execution_count": null,
      "metadata": {
        "id": "PZOf__Ly7Mfe"
      },
      "outputs": [],
      "source": [
        "RCB = nx.barabasi_albert_graph(22000,10)\n"
      ]
    },
    {
      "cell_type": "code",
      "source": [
        "\n",
        "\n",
        "fig, ax = plt.subplots(figsize=(anch, alt))\n",
        "\n",
        "sns.histplot(seqRCB,stat='count',kde=True, fill= True, element='step', label='$< k > =$ %f \\n $< C > =$ %f \\n $ < l > =$ %f' % (Kavg,cc,spl))\n",
        "# sns.histplot(seqBA,stat='count',kde=True, fill= True, element='step', label='$< k > =$ %f \\n $< C > =$ %f % (Kavg,cc))\n",
        "\n",
        "plt.title(\"Distribución de grado. \\n Modelo de Barabasi-Alberts\")\n",
        "\n",
        "plt.xlabel('$k$')\n",
        "plt.ylabel('$P(k)$')\n",
        "plt.legend()\n",
        "\n",
        "\n",
        "histRCB = plt.hist(seqRCB, bins=cajas)"
      ],
      "metadata": {
        "id": "w3uw_JUdImX4"
      },
      "execution_count": null,
      "outputs": []
    },
    {
      "cell_type": "code",
      "source": [
        "fig, ax = plt.subplots(figsize=(anch, alt))\n",
        "\n",
        "plt.loglog(K,histBA[0], 'r.', label='$< k > =$ %f \\n $< C > =$ %f \\n $ < l > =$ %f' % (Kavg,cc,spl))\n",
        "\n",
        "plt.title(\"Distribución de grado en escala logaritmica. \\n Modelo de Barabasi-Alberts\")\n",
        "plt.xlabel('$log(k)$')\n",
        "plt.ylabel('$log(P(k))$')\n",
        "\n",
        "plt.legend()"
      ],
      "metadata": {
        "id": "bvh-x8f7KK0I"
      },
      "execution_count": null,
      "outputs": []
    },
    {
      "cell_type": "code",
      "source": [
        ""
      ],
      "metadata": {
        "id": "8_V27mYJKp_f"
      },
      "execution_count": null,
      "outputs": []
    }
  ],
  "metadata": {
    "accelerator": "GPU",
    "colab": {
      "name": "Examen1_LeonPineda_Redes.ipynb",
      "provenance": []
    },
    "gpuClass": "standard",
    "kernelspec": {
      "display_name": "Python 3",
      "name": "python3"
    },
    "language_info": {
      "name": "python"
    }
  },
  "nbformat": 4,
  "nbformat_minor": 0
}